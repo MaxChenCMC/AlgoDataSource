{
  "nbformat": 4,
  "nbformat_minor": 0,
  "metadata": {
    "colab": {
      "provenance": []
    },
    "kernelspec": {
      "name": "python3",
      "display_name": "Python 3"
    },
    "language_info": {
      "name": "python"
    }
  },
  "cells": [
    {
      "cell_type": "markdown",
      "source": [
        "三大法人買賣金額統計表 & CSV下載<br>\n",
        "https://www.twse.com.tw/zh/trading/foreign/bfi82u.html\n",
        "\n",
        "https://www.twse.com.tw/fund/BFI82U?response=csv&dayDate=20230811&type=day\n",
        "\n",
        "期貨契約<br>\n",
        "https://www.taifex.com.tw/cht/3/futContractsDate\n",
        "\n",
        "臺股期貨(TX)行情表<br>\n",
        "https://www.taifex.com.tw/cht/3/futDailyMarketReport\n",
        "\n",
        "加權指數API<br>\n",
        "https://mis.twse.com.tw/stock/api/getStockInfo.jsp?json=1&delay=0&ex_ch=tse_t00.tw\n",
        "\n",
        "臺指選擇權Put/Call比<br>\n",
        "https://www.taifex.com.tw/cht/3/pcRatio"
      ],
      "metadata": {
        "id": "5mEoWskcqDew"
      }
    },
    {
      "cell_type": "code",
      "source": [
        "import json, time, datetime, requests, pandas as pd\n",
        "from io import StringIO\n",
        "from bs4 import BeautifulSoup\n",
        "\n",
        "def AlgoSource(BaseDate: str) -> tuple[int, int, int, int, int, int, int, int, int, int, float, float, float, float, float, int, float, float]:\n",
        "    '''\n",
        "    5 source url: 現貨買賣超、期貨IO、TXF_OHLCV 、TWSE_OHLCV、PutCallRatio\n",
        "    '''\n",
        "    srcDate = pd.read_html('https://www.taifex.com.tw/cht/3/futContractsDate')[2].loc[0,0][-10:]\n",
        "    if datetime.date.today().weekday() <= 4 and BaseDate == srcDate:\n",
        "\n",
        "        r = requests.get('https://www.twse.com.tw/fund/BFI82U?response=csv&dayDate='\n",
        "            + datetime.date.today().strftime(\"%Y%m%d\")\n",
        "            + '&type=day')\n",
        "        if r.text != \"\\r\\n\":\n",
        "            df = pd.read_csv(StringIO(r.text), header = 1).dropna(how = 'all', axis = 1).dropna(how = 'any')\n",
        "            institution = int(df.loc[3, '買賣差額'].replace(',', '')) # 外資及陸資(不含自營)\n",
        "            trust = int(df.loc[2, '買賣差額'].replace(',', '')) # 投信\n",
        "        else:\n",
        "            print(\"三大法人買賣金額統計表 來源有誤\")\n",
        "\n",
        "\n",
        "        # srcDate = pd.read_html('https://www.taifex.com.tw/cht/3/futContractsDate')[2].loc[0,0][-10:]\n",
        "        if BaseDate == srcDate :\n",
        "            myobj = {'queryDate': BaseDate, \"queryType\": 1}\n",
        "            response = requests.post(\"https://www.taifex.com.tw/cht/3/futContractsDate\", data = myobj)\n",
        "            soup = BeautifulSoup(response.text,features = \"html.parser\")\n",
        "            table = soup.find( \"table\", class_ = \"table_f\")\n",
        "            tx = table.find_all('tr')[5].find_all('td')\n",
        "            txnet = int([i.text.strip() for i in tx][4].replace(',', ''))\n",
        "            txoi = int([i.text.strip() for i in tx][10].replace(',', ''))\n",
        "            mtx = table.find_all('tr')[14].find_all('td')\n",
        "            mtxnet = int([i.text.strip() for i in mtx][4].replace(',', ''))\n",
        "            mtxoi = int([i.text.strip() for i in mtx][10].replace(',', ''))\n",
        "        else:\n",
        "            print(\"期貨契約 來源有誤\")\n",
        "\n",
        "\n",
        "        if BaseDate in pd.read_html(\"https://www.taifex.com.tw/cht/3/futDailyMarketReport\")[2].iloc[2,0]:\n",
        "            txf_ohlc = pd.read_html(\"https://www.taifex.com.tw/cht/3/futDailyMarketReport\")[2].loc[4,:][[2,3,4,5,9]].values.tolist()\n",
        "            txf_ohlc = [int(i) for i in txf_ohlc]\n",
        "        else:\n",
        "            print(\"臺股期貨(TX)行情表 來源有誤\")\n",
        "\n",
        "\n",
        "        url = \"https://mis.twse.com.tw/stock/api/getStockInfo.jsp?json=1&delay=0&ex_ch=tse_t00.tw\"\n",
        "        url_json = requests.get(url).json()\n",
        "        src = url_json[\"msgArray\"][0]\n",
        "        if BaseDate == datetime.datetime.strptime(src.get(\"d\"), \"%Y%m%d\").strftime(\"%Y/%m/%d\") :\n",
        "            tse_ohlcv = [float(src.get(i)) for i in [\"o\",\"h\",\"l\",\"z\"]]\n",
        "            tse_ohlcv.append(float(src.get(\"v\")) / 100)\n",
        "        else:\n",
        "            print(\"加權指數API 來源有誤\")\n",
        "\n",
        "\n",
        "        src5 = pd.read_html(\"https://www.taifex.com.tw/cht/3/pcRatio\")\n",
        "        if BaseDate == datetime.datetime.strptime(src5[3].iloc[0,0], \"%Y/%m/%d\").strftime(\"%Y/%m/%d\"):\n",
        "            PutCall = src5[3:4][0].iloc[0][['買賣權成交量比率%',\"買賣權未平倉量比率%\"]].to_list()\n",
        "        else:\n",
        "            print(\"臺指選擇權Put/Call比 來源有誤\")\n",
        "\n",
        "\n",
        "    else:\n",
        "        print(\"週末或休市時爬蟲資料會缺失\")\n",
        "\n",
        "    return print((institution, trust, txnet, txoi, mtxnet, mtxoi) + tuple(txf_ohlc) + tuple(tse_ohlcv) + tuple(PutCall))\n",
        "\n",
        "\n",
        "AlgoSource(\n",
        "    datetime.date.today().strftime(\"%Y/%m/%d\")\n",
        "    )"
      ],
      "metadata": {
        "colab": {
          "base_uri": "https://localhost:8080/"
        },
        "id": "iAkANjQ5qbrP",
        "outputId": "095ae650-a03d-4277-ce21-d70f023b0e49"
      },
      "execution_count": 8,
      "outputs": [
        {
          "output_type": "stream",
          "name": "stdout",
          "text": [
            "(-17336413780, 6055992043, -9218, -11208, -10487, -10202, 16567, 16570, 16306, 16378, 142754, 16585.41, 16585.41, 16307.28, 16393.66, 3214.09, 75.86, 67.76)\n"
          ]
        }
      ]
    }
  ]
}